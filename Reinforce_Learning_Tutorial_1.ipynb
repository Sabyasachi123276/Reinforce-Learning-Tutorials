{
  "nbformat": 4,
  "nbformat_minor": 0,
  "metadata": {
    "colab": {
      "name": "Reinforce Learning Tutorial 1.ipynb",
      "provenance": []
    },
    "kernelspec": {
      "name": "python3",
      "display_name": "Python 3"
    },
    "language_info": {
      "name": "python"
    }
  },
  "cells": [
    {
      "cell_type": "markdown",
      "metadata": {
        "id": "vIxlwfWNgB3d"
      },
      "source": [
        "Reinforcement Learning is a type of Machine Learning paradigms in which a learning algorithm is trained not on preset data but rather based on a feedback system. These algorithms are touted as the future of Machine Learning as these eliminate the cost of collecting and cleaning the data.\n",
        "\n",
        "In this article, we are going to demonstrate how to implement a basic Reinforcement Learning algorithm which is called the Q-Learning technique. In this demonstration, we attempt to teach a bot to reach its destination using the Q-Learning technique."
      ]
    },
    {
      "cell_type": "markdown",
      "metadata": {
        "id": "ZnoBaFDugJ6W"
      },
      "source": [
        "**Step 1: Importing the required libraries**"
      ]
    },
    {
      "cell_type": "code",
      "metadata": {
        "id": "FzDyiUxoenYD"
      },
      "source": [
        "import numpy as np\n",
        "import pylab as pl\n",
        "import networkx as nx\n"
      ],
      "execution_count": 29,
      "outputs": []
    },
    {
      "cell_type": "markdown",
      "metadata": {
        "id": "i3-dtq0XggYw"
      },
      "source": [
        "**Step 2: Defining and visualising the graph**"
      ]
    },
    {
      "cell_type": "code",
      "metadata": {
        "colab": {
          "base_uri": "https://localhost:8080/",
          "height": 248
        },
        "id": "XbA93Qs0ewwq",
        "outputId": "f0a97566-c242-48eb-9027-4d1ae12e06c5"
      },
      "source": [
        "edges = [(0, 5), (0, 1), (2, 3), (5, 4), (1, 2),\n",
        "\t\t(1, 3), (9, 10), (2, 4), (2, 6), (6, 7),\n",
        "\t\t(5, 9), (2, 9), (3, 8), (3, 10)]\n",
        "\n",
        "goal = 7\n",
        "G = nx.Graph()\n",
        "G.add_edges_from(edges)\n",
        "pos = nx.spring_layout(G)\n",
        "nx.draw_networkx_nodes(G, pos)\n",
        "nx.draw_networkx_edges(G, pos)\n",
        "nx.draw_networkx_labels(G, pos)\n",
        "pl.show()\n"
      ],
      "execution_count": 30,
      "outputs": [
        {
          "output_type": "display_data",
          "data": {
            "image/png": "[encoded data removed]",
            "text/plain": [
              "<Figure size 432x288 with 1 Axes>"
            ]
          },
          "metadata": {}
        }
      ]
    },
    {
      "cell_type": "markdown",
      "metadata": {
        "id": "DM4SZ0cLgvyx"
      },
      "source": [
        "**Note:** The above graph may not look the same on reproduction of the code because the networkx library in python produces a random graph from the given edges.\n",
        "\n",
        "**Step 3: Defining the reward the system for the bot**"
      ]
    },
    {
      "cell_type": "code",
      "metadata": {
        "colab": {
          "base_uri": "https://localhost:8080/"
        },
        "id": "_4kpdXZPe2jB",
        "outputId": "b528b088-add6-4fb4-f337-25078d5457ca"
      },
      "source": [
        "MATRIX_SIZE = 11\n",
        "M = np.matrix(np.ones(shape =(MATRIX_SIZE, MATRIX_SIZE)))\n",
        "M *= -1\n",
        "\n",
        "for point in edges:\n",
        "\tprint(point)\n",
        "\tif point[1] == goal:\n",
        "\t\tM[point] = 100\n",
        "\telse:\n",
        "\t\tM[point] = 0\n",
        "\n",
        "\tif point[0] == goal:\n",
        "\t\tM[point[::-1]] = 100\n",
        "\telse:\n",
        "\t\tM[point[::-1]]= 0\n",
        "\t\t# reverse of point\n",
        "\n",
        "M[goal, goal]= 100\n",
        "print(M)\n",
        "# add goal point round trip\n"
      ],
      "execution_count": 31,
      "outputs": [
        {
          "output_type": "stream",
          "name": "stdout",
          "text": [
            "(0, 1)\n",
            "(1, 5)\n",
            "(5, 6)\n",
            "(5, 4)\n",
            "(1, 2)\n",
            "(1, 3)\n",
            "(9, 10)\n",
            "(2, 4)\n",
            "(0, 6)\n",
            "(6, 7)\n",
            "(8, 9)\n",
            "(7, 8)\n",
            "(1, 7)\n",
            "(3, 9)\n",
            "[[ -1.   0.  -1.  -1.  -1.  -1.   0.  -1.  -1.  -1.  -1.]\n",
            " [  0.  -1.   0.   0.  -1.   0.  -1.   0.  -1.  -1.  -1.]\n",
            " [ -1.   0.  -1.  -1.   0.  -1.  -1.  -1.  -1.  -1.  -1.]\n",
            " [ -1.   0.  -1.  -1.  -1.  -1.  -1.  -1.  -1.   0.  -1.]\n",
            " [ -1.  -1.   0.  -1.  -1.   0.  -1.  -1.  -1.  -1.  -1.]\n",
            " [ -1.   0.  -1.  -1.   0.  -1.   0.  -1.  -1.  -1.  -1.]\n",
            " [  0.  -1.  -1.  -1.  -1.   0.  -1.   0.  -1.  -1.  -1.]\n",
            " [ -1.   0.  -1.  -1.  -1.  -1.   0.  -1.   0.  -1.  -1.]\n",
            " [ -1.  -1.  -1.  -1.  -1.  -1.  -1.   0.  -1.   0.  -1.]\n",
            " [ -1.  -1.  -1.   0.  -1.  -1.  -1.  -1.   0.  -1. 100.]\n",
            " [ -1.  -1.  -1.  -1.  -1.  -1.  -1.  -1.  -1.   0. 100.]]\n"
          ]
        }
      ]
    },
    {
      "cell_type": "markdown",
      "metadata": {
        "id": "D06Xfn7Tiu4f"
      },
      "source": [
        "**Step 4: Defining some utility functions to be used in the training**"
      ]
    },
    {
      "cell_type": "code",
      "metadata": {
        "colab": {
          "base_uri": "https://localhost:8080/"
        },
        "id": "-akAbe6Fe7--",
        "outputId": "ab1965a7-d406-4301-ce88-2a63325d9502"
      },
      "source": [
        "Q = np.matrix(np.zeros([MATRIX_SIZE, MATRIX_SIZE]))\n",
        "\n",
        "gamma = 0.75\n",
        "# learning parameter\n",
        "initial_state = 1\n",
        "\n",
        "# Determines the available actions for a given state\n",
        "def available_actions(state):\n",
        "\tcurrent_state_row = M[state, ]\n",
        "\tavailable_action = np.where(current_state_row >= 0)[1]\n",
        "\treturn available_action\n",
        "\n",
        "available_action = available_actions(initial_state)\n",
        "\n",
        "# Chooses one of the available actions at random\n",
        "def sample_next_action(available_actions_range):\n",
        "\tnext_action = int(np.random.choice(available_action, 1))\n",
        "\treturn next_action\n",
        "\n",
        "\n",
        "action = sample_next_action(available_action)\n",
        "\n",
        "def update(current_state, action, gamma):\n",
        "\n",
        "  max_index = np.where(Q[action, ] == np.max(Q[action, ]))[1]\n",
        "  if max_index.shape[0] > 1:\n",
        "\t   max_index = int(np.random.choice(max_index, size = 1))\n",
        "  else:\n",
        "\t     max_index = int(max_index)\n",
        "  max_value = Q[action, max_index]\n",
        "  Q[current_state, action] = M[current_state, action] + gamma * max_value\n",
        "  if (np.max(Q) > 0):\n",
        "\t  return(np.sum(Q / np.max(Q)*100))\n",
        "  else:\n",
        "\t  return (0)\n",
        "# Updates the Q-Matrix according to the path chosen\n",
        "\n",
        "update(initial_state, action, gamma)\n"
      ],
      "execution_count": 32,
      "outputs": [
        {
          "output_type": "execute_result",
          "data": {
            "text/plain": [
              "0"
            ]
          },
          "metadata": {},
          "execution_count": 32
        }
      ]
    },
    {
      "cell_type": "markdown",
      "metadata": {
        "id": "jlbCHBbOjBL8"
      },
      "source": [
        "**Step 5: Training and evaluating the bot using the Q-Matrix**"
      ]
    },
    {
      "cell_type": "code",
      "metadata": {
        "colab": {
          "base_uri": "https://localhost:8080/",
          "height": 316
        },
        "id": "ghKFN2pOfv83",
        "outputId": "048ac070-8439-454f-8bd7-93f2d8a4eaa1"
      },
      "source": [
        "scores = []\n",
        "for i in range(1000):\n",
        "\tcurrent_state = np.random.randint(0, int(Q.shape[0]))\n",
        "\tavailable_action = available_actions(current_state)\n",
        "\taction = sample_next_action(available_action)\n",
        "\tscore = update(current_state, action, gamma)\n",
        "\tscores.append(score)\n",
        "\n",
        "# print(\"Trained Q matrix:\")\n",
        "# print(Q / np.max(Q)*100)\n",
        "# You can uncomment the above two lines to view the trained Q matrix\n",
        "\n",
        "# Testing\n",
        "current_state = 0\n",
        "steps = [current_state]\n",
        "\n",
        "while current_state != 10:\n",
        "\n",
        "\tnext_step_index = np.where(Q[current_state, ] == np.max(Q[current_state, ]))[1]\n",
        "\tif next_step_index.shape[0] > 1:\n",
        "\t\tnext_step_index = int(np.random.choice(next_step_index, size = 1))\n",
        "\telse:\n",
        "\t\tnext_step_index = int(next_step_index)\n",
        "\tsteps.append(next_step_index)\n",
        "\tcurrent_state = next_step_index\n",
        "\n",
        "print(\"Most efficient path:\")\n",
        "print(steps)\n",
        "\n",
        "pl.plot(scores)\n",
        "pl.xlabel('No of iterations')\n",
        "pl.ylabel('Reward gained')\n",
        "pl.show()\n"
      ],
      "execution_count": 14,
      "outputs": [
        {
          "output_type": "stream",
          "name": "stdout",
          "text": [
            "Most efficient path:\n",
            "[0, 1, 3, 9, 10]\n"
          ]
        },
        {
          "output_type": "display_data",
          "data": {
            "image/png": "[encoded data removed]",
            "text/plain": [
              "<Figure size 432x288 with 1 Axes>"
            ]
          },
          "metadata": {
            "needs_background": "light"
          }
        }
      ]
    },
    {
      "cell_type": "markdown",
      "metadata": {
        "id": "nSrVDh7BjYKU"
      },
      "source": [
        "Now, Let’s bring this bot to a more realistic setting. Let us imagine that the bot is a detective and is trying to find out the location of a large drug racket. He naturally concludes that the drug sellers will not sell their products in a location which is known to be frequented by the police and the selling locations are near the location of the drug racket. Also, the sellers leave a trace of their products where they sell it and this can help the detective in finding out the required location. We want to train our bot to find the location using these **Environmental Clues**.\n",
        "\n",
        "**Step 6: Defining and visualizing the new graph with the environmental clues**"
      ]
    },
    {
      "cell_type": "code",
      "metadata": {
        "colab": {
          "base_uri": "https://localhost:8080/",
          "height": 248
        },
        "id": "Cdct530fjuZZ",
        "outputId": "c1054a86-284b-4a77-f37a-ae96c5ec9f0e"
      },
      "source": [
        "# Defining the locations of the police and the drug traces\n",
        "police = [2, 4, 5]\n",
        "drug_traces = [3, 8, 9]\n",
        "\n",
        "G = nx.Graph()\n",
        "G.add_edges_from(edges)\n",
        "mapping = {0:'0 - Detective', 1:'1', 2:'2 - Police', 3:'3 - Drug traces',\n",
        "\t\t4:'4 - Police', 5:'5 - Police', 6:'6', 7:'7', 8:'Drug traces',\n",
        "\t\t9:'9 - Drug traces', 10:'10 - Drug racket location'}\n",
        "\n",
        "H = nx.relabel_nodes(G, mapping)\n",
        "pos = nx.spring_layout(H)\n",
        "nx.draw_networkx_nodes(H, pos, node_size =[200, 200, 200, 200, 200, 200, 200, 200, 200, 200, 200])\n",
        "nx.draw_networkx_edges(H, pos)\n",
        "nx.draw_networkx_labels(H, pos)\n",
        "pl.show()\n"
      ],
      "execution_count": 33,
      "outputs": [
        {
          "output_type": "display_data",
          "data": {
            "image/png": "[encoded data removed]",
            "text/plain": [
              "<Figure size 432x288 with 1 Axes>"
            ]
          },
          "metadata": {}
        }
      ]
    },
    {
      "cell_type": "markdown",
      "metadata": {
        "id": "r4SPZ0eLkVsu"
      },
      "source": [
        "**Note:** The above graph may look a bit different from the previous graph but they, in fact, are the same graphs. This is due to the random placement of nodes by the networkx library.\n",
        "\n",
        "**Step 7: Defining some utility functions for the training process**"
      ]
    },
    {
      "cell_type": "code",
      "metadata": {
        "id": "anLvbq-kukNA"
      },
      "source": [
        "Q = np.matrix(np.zeros([MATRIX_SIZE, MATRIX_SIZE]))\n",
        "env_police = np.matrix(np.zeros([MATRIX_SIZE, MATRIX_SIZE]))\n",
        "env_drugs = np.matrix(np.zeros([MATRIX_SIZE, MATRIX_SIZE]))\n",
        "initial_state = 1\n",
        "\n",
        "# Same as above\n",
        "def available_actions(state):\n",
        "\tcurrent_state_row = M[state, ]\n",
        "\tav_action = np.where(current_state_row >= 0)[1]\n",
        "\treturn av_action\n",
        "\n",
        "# Same as above\n",
        "def sample_next_action(available_actions_range):\n",
        "\tnext_action = int(np.random.choice(available_action, 1))\n",
        "\treturn next_action\n",
        "\n",
        "# Exploring the environment\n",
        "def collect_environmental_data(action):\n",
        "\tfound = []\n",
        "\tif action in police:\n",
        "\t\tfound.append('p')\n",
        "\tif action in drug_traces:\n",
        "\t\tfound.append('d')\n",
        "\treturn (found)\n",
        "\n",
        "\n",
        "available_action = available_actions(initial_state)\n",
        "action = sample_next_action(available_action)\n",
        "\n",
        "def update(current_state, action, gamma):\n",
        "   max_index = np.where(Q[action, ] == np.max(Q[action, ]))[1]\n",
        "   if max_index.shape[0] > 1:\n",
        "\t    max_index = int(np.random.choice(max_index, size = 1))\n",
        "   else:\n",
        "\t    max_index = int(max_index)\n",
        "   max_value = Q[action, max_index]\n",
        "   Q[current_state, action] = M[current_state, action] + gamma * max_value\n",
        "   environment = collect_environmental_data(action)\n",
        "   if 'p' in environment:\n",
        "\t   env_police[current_state, action] += 1\n",
        "   if 'd' in environment:\n",
        "   \tenv_drugs[current_state, action] += 1\n",
        "   if (np.max(Q) > 0):\n",
        "\t   return(np.sum(Q / np.max(Q)*100))\n",
        "   else:\n",
        "\t   return (0)\n",
        "# Same as above\n",
        "update(initial_state, action, gamma)\n",
        "\n",
        "def available_actions_with_env_help(state):\n",
        "\tcurrent_state_row = M[state, ]\n",
        "\tav_action = np.where(current_state_row >= 0)[1]\n",
        "\n",
        "\t# if there are multiple routes, dis-favor anything negative\n",
        "\tenv_pos_row = env_matrix_snap[state, av_action]\n",
        "\n",
        "\tif (np.sum(env_pos_row < 0)):\n",
        "\t\t# can we remove the negative directions from av_act?\n",
        "\t\ttemp_av_action = av_action[np.array(env_pos_row)[0]>= 0]\n",
        "\t\tif len(temp_av_action) > 0:\n",
        "\t\t\tav_action = temp_av_action\n",
        "\treturn av_action\n",
        "# Determines the available actions according to the environment\n",
        "\n",
        "\n",
        "\n",
        "\n",
        "\n",
        " "
      ],
      "execution_count": 50,
      "outputs": []
    },
    {
      "cell_type": "markdown",
      "metadata": {
        "id": "_xqFzwbolJ_i"
      },
      "source": [
        "**Step 8: Visualising the Environmental matrices**"
      ]
    },
    {
      "cell_type": "code",
      "metadata": {
        "colab": {
          "base_uri": "https://localhost:8080/"
        },
        "id": "LSZ9apHawXcI",
        "outputId": "4bc9b946-9c45-4bd1-9940-1aee8389d86f"
      },
      "source": [
        "scores = []\n",
        "for i in range(1000):\n",
        "\tcurrent_state = np.random.randint(0, int(Q.shape[0]))\n",
        "\tavailable_action = available_actions(current_state)\n",
        "\taction = sample_next_action(available_action)\n",
        "\tscore = update(current_state, action, gamma)\n",
        "\n",
        "# print environmental matrices\n",
        "print('Police Found')\n",
        "print(env_police)\n",
        "print('')\n",
        "print('Drug traces Found')\n",
        "print(env_drugs)\n"
      ],
      "execution_count": 46,
      "outputs": [
        {
          "output_type": "stream",
          "name": "stdout",
          "text": [
            "Police Found\n",
            "[[  0.   0.   0.   0.   0.   0.   0.   0.   0.   0.   0.]\n",
            " [  0.   0.  45.   0.   0.  59.   0.   0.   0.   0.   0.]\n",
            " [  0.   0.   0.   0. 136.   0.   0.   0.   0.   0.   0.]\n",
            " [  0.   0.   0.   0.   0.   0.   0.   0.   0.   0.   0.]\n",
            " [  0.   0. 128.   0.   0. 147.   0.   0.   0.   0.   0.]\n",
            " [  0.   0.   0.   0.  89.   0.   0.   0.   0.   0.   0.]\n",
            " [  0.   0.   0.   0.   0.  94.   0.   0.   0.   0.   0.]\n",
            " [  0.   0.   0.   0.   0.   0.   0.   0.   0.   0.   0.]\n",
            " [  0.   0.   0.   0.   0.   0.   0.   0.   0.   0.   0.]\n",
            " [  0.   0.   0.   0.   0.   0.   0.   0.   0.   0.   0.]\n",
            " [  0.   0.   0.   0.   0.   0.   0.   0.   0.   0.   0.]]\n",
            "\n",
            "Drug traces Found\n",
            "[[  0.   0.   0.   0.   0.   0.   0.   0.   0.   0.   0.]\n",
            " [  0.   0.   0.  60.   0.   0.   0.   0.   0.   0.   0.]\n",
            " [  0.   0.   0.   0.   0.   0.   0.   0.   0.   0.   0.]\n",
            " [  0.   0.   0.   0.   0.   0.   0.   0.   0. 164.   0.]\n",
            " [  0.   0.   0.   0.   0.   0.   0.   0.   0.   0.   0.]\n",
            " [  0.   0.   0.   0.   0.   0.   0.   0.   0.   0.   0.]\n",
            " [  0.   0.   0.   0.   0.   0.   0.   0.   0.   0.   0.]\n",
            " [  0.   0.   0.   0.   0.   0.   0.   0.  87.   0.   0.]\n",
            " [  0.   0.   0.   0.   0.   0.   0.   0.   0. 147.   0.]\n",
            " [  0.   0.   0. 100.   0.   0.   0.   0. 100.   0.   0.]\n",
            " [  0.   0.   0.   0.   0.   0.   0.   0.   0. 114.   0.]]\n"
          ]
        }
      ]
    },
    {
      "cell_type": "markdown",
      "metadata": {
        "id": "R67RY5zaxY_H"
      },
      "source": [
        "**Step 9: Training and evaluating the model**"
      ]
    },
    {
      "cell_type": "code",
      "metadata": {
        "colab": {
          "base_uri": "https://localhost:8080/",
          "height": 281
        },
        "id": "fqml7M7uxKqA",
        "outputId": "1da062fc-09a5-468e-a34b-92d8249faf03"
      },
      "source": [
        "def available_actions_with_env_help(state):\n",
        "    current_state_row = M[state, ]\n",
        "    av_action = np.where(current_state_row >= 0)[1]\n",
        "    return av_action\n",
        "    scores = []\n",
        "for i in range(1000):\n",
        "\tcurrent_state = np.random.randint(0, int(Q.shape[0]))\n",
        "\tavailable_action = available_actions_with_env_help(current_state)\n",
        "\taction = sample_next_action(available_action)\n",
        "\tscore = update(current_state, action, gamma)\n",
        "\tscores.append(score)\n",
        "\n",
        "pl.plot(scores)\n",
        "pl.xlabel('Number of iterations')\n",
        "pl.ylabel('Reward gained')\n",
        "pl.show()\n"
      ],
      "execution_count": 51,
      "outputs": [
        {
          "output_type": "display_data",
          "data": {
            "image/png": "[encoded data removed]",
            "text/plain": [
              "<Figure size 432x288 with 1 Axes>"
            ]
          },
          "metadata": {
            "needs_background": "light"
          }
        }
      ]
    },
    {
      "cell_type": "markdown",
      "metadata": {
        "id": "UZ5pOFzzxc25"
      },
      "source": [
        "The example taken above was a very basic one and many practical examples like Self Driving Cars involve the concept of Game Theory."
      ]
    }
  ]
}
